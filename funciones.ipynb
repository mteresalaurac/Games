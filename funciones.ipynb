{
 "cells": [
  {
   "cell_type": "code",
   "execution_count": 1,
   "metadata": {},
   "outputs": [],
   "source": [
    "import pandas as pd\n",
    "\n",
    "#Importo el archivo de GAMES\n",
    "games=pd.read_csv(\"Archivos_Comprimidos/games.csv\",encoding=\"latin-1\")\n",
    "\n",
    "#Importo el archivo de REVIEWS\n",
    "reviews_prueba= pd.read_parquet(\"Archivos_Comprimidos/reviews_final.parquet\")\n",
    "\n",
    "#Importo el archivo de ITEMS\n",
    "items=pd.read_parquet(\"Archivos_Comprimidos/items.parquet\")\n",
    "\n",
    "#DataFrame joineado para funciones 1) y 2). Voy a unir games con items"
   ]
  },
  {
   "cell_type": "code",
   "execution_count": 7,
   "metadata": {},
   "outputs": [
    {
     "data": {
      "text/html": [
       "<div>\n",
       "<style scoped>\n",
       "    .dataframe tbody tr th:only-of-type {\n",
       "        vertical-align: middle;\n",
       "    }\n",
       "\n",
       "    .dataframe tbody tr th {\n",
       "        vertical-align: top;\n",
       "    }\n",
       "\n",
       "    .dataframe thead th {\n",
       "        text-align: right;\n",
       "    }\n",
       "</style>\n",
       "<table border=\"1\" class=\"dataframe\">\n",
       "  <thead>\n",
       "    <tr style=\"text-align: right;\">\n",
       "      <th></th>\n",
       "      <th>genres</th>\n",
       "      <th>app_name</th>\n",
       "      <th>date</th>\n",
       "      <th>price</th>\n",
       "      <th>item_id</th>\n",
       "    </tr>\n",
       "  </thead>\n",
       "  <tbody>\n",
       "    <tr>\n",
       "      <th>0</th>\n",
       "      <td>['Action', 'Casual', 'Indie', 'Simulation', 'S...</td>\n",
       "      <td>Lost Summoner Kitty</td>\n",
       "      <td>2018</td>\n",
       "      <td>4.99</td>\n",
       "      <td>761140.0</td>\n",
       "    </tr>\n",
       "    <tr>\n",
       "      <th>1</th>\n",
       "      <td>['Free to Play', 'Indie', 'RPG', 'Strategy']</td>\n",
       "      <td>Ironbound</td>\n",
       "      <td>2018</td>\n",
       "      <td>Free To Play</td>\n",
       "      <td>643980.0</td>\n",
       "    </tr>\n",
       "  </tbody>\n",
       "</table>\n",
       "</div>"
      ],
      "text/plain": [
       "                                              genres             app_name  \\\n",
       "0  ['Action', 'Casual', 'Indie', 'Simulation', 'S...  Lost Summoner Kitty   \n",
       "1       ['Free to Play', 'Indie', 'RPG', 'Strategy']            Ironbound   \n",
       "\n",
       "   date         price   item_id  \n",
       "0  2018          4.99  761140.0  \n",
       "1  2018  Free To Play  643980.0  "
      ]
     },
     "execution_count": 7,
     "metadata": {},
     "output_type": "execute_result"
    }
   ],
   "source": [
    "# Games:\n",
    "games.head(2)"
   ]
  },
  {
   "cell_type": "code",
   "execution_count": 8,
   "metadata": {},
   "outputs": [
    {
     "data": {
      "text/html": [
       "<div>\n",
       "<style scoped>\n",
       "    .dataframe tbody tr th:only-of-type {\n",
       "        vertical-align: middle;\n",
       "    }\n",
       "\n",
       "    .dataframe tbody tr th {\n",
       "        vertical-align: top;\n",
       "    }\n",
       "\n",
       "    .dataframe thead th {\n",
       "        text-align: right;\n",
       "    }\n",
       "</style>\n",
       "<table border=\"1\" class=\"dataframe\">\n",
       "  <thead>\n",
       "    <tr style=\"text-align: right;\">\n",
       "      <th></th>\n",
       "      <th>user_id</th>\n",
       "      <th>item_id</th>\n",
       "      <th>item_name</th>\n",
       "      <th>horas</th>\n",
       "    </tr>\n",
       "  </thead>\n",
       "  <tbody>\n",
       "    <tr>\n",
       "      <th>0</th>\n",
       "      <td>76561197970982479</td>\n",
       "      <td>10.0</td>\n",
       "      <td>Counter-Strike</td>\n",
       "      <td>0.1</td>\n",
       "    </tr>\n",
       "    <tr>\n",
       "      <th>1</th>\n",
       "      <td>76561197970982479</td>\n",
       "      <td>20.0</td>\n",
       "      <td>Team Fortress Classic</td>\n",
       "      <td>0.0</td>\n",
       "    </tr>\n",
       "  </tbody>\n",
       "</table>\n",
       "</div>"
      ],
      "text/plain": [
       "             user_id  item_id              item_name  horas\n",
       "0  76561197970982479     10.0         Counter-Strike    0.1\n",
       "1  76561197970982479     20.0  Team Fortress Classic    0.0"
      ]
     },
     "execution_count": 8,
     "metadata": {},
     "output_type": "execute_result"
    }
   ],
   "source": [
    "# Items:\n",
    "items.head(2)"
   ]
  },
  {
   "cell_type": "code",
   "execution_count": 9,
   "metadata": {},
   "outputs": [
    {
     "data": {
      "text/html": [
       "<div>\n",
       "<style scoped>\n",
       "    .dataframe tbody tr th:only-of-type {\n",
       "        vertical-align: middle;\n",
       "    }\n",
       "\n",
       "    .dataframe tbody tr th {\n",
       "        vertical-align: top;\n",
       "    }\n",
       "\n",
       "    .dataframe thead th {\n",
       "        text-align: right;\n",
       "    }\n",
       "</style>\n",
       "<table border=\"1\" class=\"dataframe\">\n",
       "  <thead>\n",
       "    <tr style=\"text-align: right;\">\n",
       "      <th></th>\n",
       "      <th>user_id</th>\n",
       "      <th>posted</th>\n",
       "      <th>item_id</th>\n",
       "      <th>review</th>\n",
       "    </tr>\n",
       "  </thead>\n",
       "  <tbody>\n",
       "    <tr>\n",
       "      <th>0</th>\n",
       "      <td>76561197970982479</td>\n",
       "      <td>2011.0</td>\n",
       "      <td>1250</td>\n",
       "      <td>Simple yet with great replayability. In my opi...</td>\n",
       "    </tr>\n",
       "    <tr>\n",
       "      <th>1</th>\n",
       "      <td>76561197970982479</td>\n",
       "      <td>2011.0</td>\n",
       "      <td>22200</td>\n",
       "      <td>It's unique and worth a playthrough.</td>\n",
       "    </tr>\n",
       "  </tbody>\n",
       "</table>\n",
       "</div>"
      ],
      "text/plain": [
       "             user_id  posted item_id  \\\n",
       "0  76561197970982479  2011.0    1250   \n",
       "1  76561197970982479  2011.0   22200   \n",
       "\n",
       "                                              review  \n",
       "0  Simple yet with great replayability. In my opi...  \n",
       "1               It's unique and worth a playthrough.  "
      ]
     },
     "execution_count": 9,
     "metadata": {},
     "output_type": "execute_result"
    }
   ],
   "source": [
    "# Reviews\n",
    "reviews_prueba.head(2)"
   ]
  },
  {
   "cell_type": "code",
   "execution_count": 10,
   "metadata": {},
   "outputs": [
    {
     "data": {
      "text/html": [
       "<div>\n",
       "<style scoped>\n",
       "    .dataframe tbody tr th:only-of-type {\n",
       "        vertical-align: middle;\n",
       "    }\n",
       "\n",
       "    .dataframe tbody tr th {\n",
       "        vertical-align: top;\n",
       "    }\n",
       "\n",
       "    .dataframe thead th {\n",
       "        text-align: right;\n",
       "    }\n",
       "</style>\n",
       "<table border=\"1\" class=\"dataframe\">\n",
       "  <thead>\n",
       "    <tr style=\"text-align: right;\">\n",
       "      <th></th>\n",
       "      <th>user_id</th>\n",
       "      <th>item_id</th>\n",
       "      <th>item_name</th>\n",
       "      <th>horas</th>\n",
       "      <th>genres</th>\n",
       "      <th>app_name</th>\n",
       "      <th>date</th>\n",
       "      <th>price</th>\n",
       "    </tr>\n",
       "  </thead>\n",
       "  <tbody>\n",
       "    <tr>\n",
       "      <th>4142660</th>\n",
       "      <td>76561198081168593</td>\n",
       "      <td>375450.0</td>\n",
       "      <td>NOBUNAGA'S AMBITION: Souzou SengokuRisshiden</td>\n",
       "      <td>0.850000</td>\n",
       "      <td>['Strategy']</td>\n",
       "      <td>NOBUNAGA'S AMBITION: Sphere of Influence - Asc...</td>\n",
       "      <td>2016</td>\n",
       "      <td>59.99</td>\n",
       "    </tr>\n",
       "    <tr>\n",
       "      <th>4142661</th>\n",
       "      <td>76561198107283457</td>\n",
       "      <td>354280.0</td>\n",
       "      <td>ChaosTower</td>\n",
       "      <td>2.733333</td>\n",
       "      <td>['Action', 'Casual', 'Indie', 'Simulation']</td>\n",
       "      <td>ChaosTower</td>\n",
       "      <td>2016</td>\n",
       "      <td>5.99</td>\n",
       "    </tr>\n",
       "    <tr>\n",
       "      <th>4142662</th>\n",
       "      <td>inven</td>\n",
       "      <td>433920.0</td>\n",
       "      <td>Aveyond 4: Shadow Of The Mist</td>\n",
       "      <td>0.000000</td>\n",
       "      <td>['Adventure', 'Indie', 'RPG']</td>\n",
       "      <td>Aveyond 4: Shadow of the Mist</td>\n",
       "      <td>2016</td>\n",
       "      <td>14.99</td>\n",
       "    </tr>\n",
       "  </tbody>\n",
       "</table>\n",
       "</div>"
      ],
      "text/plain": [
       "                   user_id   item_id  \\\n",
       "4142660  76561198081168593  375450.0   \n",
       "4142661  76561198107283457  354280.0   \n",
       "4142662              inven  433920.0   \n",
       "\n",
       "                                            item_name     horas  \\\n",
       "4142660  NOBUNAGA'S AMBITION: Souzou SengokuRisshiden  0.850000   \n",
       "4142661                                    ChaosTower  2.733333   \n",
       "4142662                 Aveyond 4: Shadow Of The Mist  0.000000   \n",
       "\n",
       "                                              genres  \\\n",
       "4142660                                 ['Strategy']   \n",
       "4142661  ['Action', 'Casual', 'Indie', 'Simulation']   \n",
       "4142662                ['Adventure', 'Indie', 'RPG']   \n",
       "\n",
       "                                                  app_name  date  price  \n",
       "4142660  NOBUNAGA'S AMBITION: Sphere of Influence - Asc...  2016  59.99  \n",
       "4142661                                         ChaosTower  2016   5.99  \n",
       "4142662                      Aveyond 4: Shadow of the Mist  2016  14.99  "
      ]
     },
     "execution_count": 10,
     "metadata": {},
     "output_type": "execute_result"
    }
   ],
   "source": [
    "#Join los dfs: \"items\" con \"games\"\n",
    "#En la tabla items tengo la cantidad de horas jugadas para cada usuario por cada juego (item)\n",
    "#Asocio a esta tabla el genero del juego\n",
    "#Las uno mediante item_id \n",
    "\n",
    "items['item_id'] = items['item_id'].astype(float) #Necesito igualar el tipo de dato para poder joinear las tablas \n",
    "df= pd.merge(items, games, on='item_id', how='inner')\n",
    "df.tail(3)   #df que voy a utlizar en la funcion"
   ]
  },
  {
   "cell_type": "code",
   "execution_count": 51,
   "metadata": {},
   "outputs": [
    {
     "name": "stdout",
     "output_type": "stream",
     "text": [
      "Año de lanzamiento con más horas jugadas para género casual: 2012\n"
     ]
    }
   ],
   "source": [
    "# 1) Paso toda al columna de generos a minuscula \n",
    "df['genres'] = df['genres'].str.lower()\n",
    "#df['genres'].tail(5)\n",
    "\n",
    "# 2) Filtro los valores que contienen el genero que me interesa\n",
    "genero=\"casual\"\n",
    "df_filtrado = df[df.filter(like='genres').apply(lambda x: x.str.contains(genero)).any(axis=1)] \n",
    "#df_filtrado['genres'].tail(5)\n",
    "##Me devuelve los valores booleanos True que cumplen la condicion del filtro.\n",
    "\n",
    "\n",
    "#Ya seleccione los datos  que necesito. Me falta agruparlos y sumar las horas de juego por año.\n",
    "#3) Agrupo los valores por año en cada caso.\n",
    "\n",
    "df_ordenado=df_filtrado[[\"date\",\"horas\"]].groupby([\"horas\"]).sum().sort_values(by='horas',ascending=False)\n",
    "\n",
    "#df_ordenado.head(10)\n",
    "\n",
    "df_ordenado.reset_index(inplace=True) #Agrego el indice\n",
    "df_ordenado.head(10)\n",
    "\n",
    "\n",
    "#df_filtrado[\"date\"].value_counts()\n",
    "\n",
    "#df_ordenado['horas'] = df_ordenado['horas'].astype(int)\n",
    "#mayortiempo=\n",
    "df_ordenado.head(100)\n",
    "\n",
    "#print(int(df_ordenado[\"horas\"].iloc[0]))\n",
    "#print(df_ordenado[\"date\"].iloc[0])\n",
    "\n",
    "\n",
    "print(f\"Año de lanzamiento con más horas jugadas para género {genero}: {df_ordenado.date.iloc[0]}\")"
   ]
  }
 ],
 "metadata": {
  "kernelspec": {
   "display_name": "Python 3",
   "language": "python",
   "name": "python3"
  },
  "language_info": {
   "codemirror_mode": {
    "name": "ipython",
    "version": 3
   },
   "file_extension": ".py",
   "mimetype": "text/x-python",
   "name": "python",
   "nbconvert_exporter": "python",
   "pygments_lexer": "ipython3",
   "version": "3.11.2"
  },
  "orig_nbformat": 4
 },
 "nbformat": 4,
 "nbformat_minor": 2
}
